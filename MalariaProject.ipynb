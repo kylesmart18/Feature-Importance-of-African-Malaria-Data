{
  "nbformat": 4,
  "nbformat_minor": 0,
  "metadata": {
    "colab": {
      "name": "MalariaProject.ipynb",
      "provenance": [],
      "collapsed_sections": []
    },
    "interpreter": {
      "hash": "74ecdb5788cb7deb97f5afe576cacc963ac1f43a488ddf01682c97da661b9a1b"
    },
    "kernelspec": {
      "display_name": "Python 3.7.6 64-bit ('base': conda)",
      "name": "python3"
    },
    "language_info": {
      "codemirror_mode": {
        "name": "ipython",
        "version": 3
      },
      "file_extension": ".py",
      "mimetype": "text/x-python",
      "name": "python",
      "nbconvert_exporter": "python",
      "pygments_lexer": "ipython3",
      "version": "3.7.6"
    }
  },
  "cells": [
    {
      "cell_type": "code",
      "metadata": {
        "id": "UUC3MVjiV-2c"
      },
      "source": [
        "import numpy as np\n",
        "import pandas as pd\n",
        "import matplotlib.pyplot as plt\n",
        "import sklearn\n",
        "import seaborn as sns\n",
        "import matplotlib as mpl"
      ],
      "execution_count": null,
      "outputs": []
    },
    {
      "cell_type": "code",
      "metadata": {
        "colab": {
          "base_uri": "https://localhost:8080/"
        },
        "id": "Nvk9MyLMeViS",
        "outputId": "e1389666-c0de-4f39-e74d-eedf51889c57"
      },
      "source": [
        "from google.colab import drive\n",
        "drive.mount('/content/drive')"
      ],
      "execution_count": null,
      "outputs": [
        {
          "output_type": "stream",
          "name": "stdout",
          "text": [
            "Mounted at /content/drive\n"
          ]
        }
      ]
    },
    {
      "cell_type": "code",
      "metadata": {
        "colab": {
          "base_uri": "https://localhost:8080/"
        },
        "id": "D7zr0bapgTlK",
        "outputId": "f66507a7-6ad8-40e8-b5e2-fd4badf40ffa"
      },
      "source": [
        "!ls \"/content/drive/My Drive/Project\""
      ],
      "execution_count": null,
      "outputs": [
        {
          "output_type": "stream",
          "name": "stdout",
          "text": [
            " DatasetAfricaMalaria.csv\t project_milestone1.ipynb\n",
            " DatasetAfricaMalaria.gsheet\t'Project Plan.gdoc'\n",
            "'Malaria Presentation.gslides'\t SmartEskindChang_Project_Proposal.docx\n"
          ]
        }
      ]
    },
    {
      "cell_type": "code",
      "metadata": {
        "colab": {
          "base_uri": "https://localhost:8080/",
          "height": 487
        },
        "id": "QWoTfANVV-2j",
        "outputId": "6aa69d28-6c28-4b7c-8b81-16942a1311d6"
      },
      "source": [
        "df = pd.read_csv('/content/drive/My Drive/Project/DatasetAfricaMalaria.csv')\n",
        "\n",
        "df.head()"
      ],
      "execution_count": null,
      "outputs": [
        {
          "output_type": "execute_result",
          "data": {
            "text/html": [
              "<div>\n",
              "<style scoped>\n",
              "    .dataframe tbody tr th:only-of-type {\n",
              "        vertical-align: middle;\n",
              "    }\n",
              "\n",
              "    .dataframe tbody tr th {\n",
              "        vertical-align: top;\n",
              "    }\n",
              "\n",
              "    .dataframe thead th {\n",
              "        text-align: right;\n",
              "    }\n",
              "</style>\n",
              "<table border=\"1\" class=\"dataframe\">\n",
              "  <thead>\n",
              "    <tr style=\"text-align: right;\">\n",
              "      <th></th>\n",
              "      <th>Country Name</th>\n",
              "      <th>Year</th>\n",
              "      <th>Country Code</th>\n",
              "      <th>Incidence of malaria (per 1,000 population at risk)</th>\n",
              "      <th>Malaria cases reported</th>\n",
              "      <th>Use of insecticide-treated bed nets (% of under-5 population)</th>\n",
              "      <th>Children with fever receiving antimalarial drugs (% of children under age 5 with fever)</th>\n",
              "      <th>Intermittent preventive treatment (IPT) of malaria in pregnancy (% of pregnant women)</th>\n",
              "      <th>People using safely managed drinking water services (% of population)</th>\n",
              "      <th>People using safely managed drinking water services, rural (% of rural population)</th>\n",
              "      <th>People using safely managed drinking water services, urban (% of urban population)</th>\n",
              "      <th>People using safely managed sanitation services (% of population)</th>\n",
              "      <th>People using safely managed sanitation services, rural (% of rural population)</th>\n",
              "      <th>People using safely managed sanitation services, urban  (% of urban population)</th>\n",
              "      <th>Rural population (% of total population)</th>\n",
              "      <th>Rural population growth (annual %)</th>\n",
              "      <th>Urban population (% of total population)</th>\n",
              "      <th>Urban population growth (annual %)</th>\n",
              "      <th>People using at least basic drinking water services (% of population)</th>\n",
              "      <th>People using at least basic drinking water services, rural (% of rural population)</th>\n",
              "      <th>People using at least basic drinking water services, urban (% of urban population)</th>\n",
              "      <th>People using at least basic sanitation services (% of population)</th>\n",
              "      <th>People using at least basic sanitation services, rural (% of rural population)</th>\n",
              "      <th>People using at least basic sanitation services, urban  (% of urban population)</th>\n",
              "      <th>latitude</th>\n",
              "      <th>longitude</th>\n",
              "      <th>geometry</th>\n",
              "    </tr>\n",
              "  </thead>\n",
              "  <tbody>\n",
              "    <tr>\n",
              "      <th>0</th>\n",
              "      <td>Algeria</td>\n",
              "      <td>2007</td>\n",
              "      <td>DZA</td>\n",
              "      <td>0.01</td>\n",
              "      <td>26.0</td>\n",
              "      <td>NaN</td>\n",
              "      <td>NaN</td>\n",
              "      <td>NaN</td>\n",
              "      <td>NaN</td>\n",
              "      <td>NaN</td>\n",
              "      <td>NaN</td>\n",
              "      <td>18.24</td>\n",
              "      <td>19.96</td>\n",
              "      <td>17.33</td>\n",
              "      <td>34.65</td>\n",
              "      <td>-0.60</td>\n",
              "      <td>65.35</td>\n",
              "      <td>2.71</td>\n",
              "      <td>91.68</td>\n",
              "      <td>85.83</td>\n",
              "      <td>94.78</td>\n",
              "      <td>85.85</td>\n",
              "      <td>76.94</td>\n",
              "      <td>90.57</td>\n",
              "      <td>28.033886</td>\n",
              "      <td>1.659626</td>\n",
              "      <td>POINT (28.033886 1.659626)</td>\n",
              "    </tr>\n",
              "    <tr>\n",
              "      <th>1</th>\n",
              "      <td>Angola</td>\n",
              "      <td>2007</td>\n",
              "      <td>AGO</td>\n",
              "      <td>286.72</td>\n",
              "      <td>1533485.0</td>\n",
              "      <td>18.0</td>\n",
              "      <td>29.8</td>\n",
              "      <td>1.5</td>\n",
              "      <td>NaN</td>\n",
              "      <td>NaN</td>\n",
              "      <td>NaN</td>\n",
              "      <td>NaN</td>\n",
              "      <td>NaN</td>\n",
              "      <td>NaN</td>\n",
              "      <td>42.48</td>\n",
              "      <td>1.91</td>\n",
              "      <td>57.52</td>\n",
              "      <td>5.01</td>\n",
              "      <td>47.96</td>\n",
              "      <td>23.77</td>\n",
              "      <td>65.83</td>\n",
              "      <td>37.26</td>\n",
              "      <td>14.00</td>\n",
              "      <td>54.44</td>\n",
              "      <td>-11.202692</td>\n",
              "      <td>17.873887</td>\n",
              "      <td>POINT (-11.202692 17.873887)</td>\n",
              "    </tr>\n",
              "    <tr>\n",
              "      <th>2</th>\n",
              "      <td>Benin</td>\n",
              "      <td>2007</td>\n",
              "      <td>BEN</td>\n",
              "      <td>480.24</td>\n",
              "      <td>0.0</td>\n",
              "      <td>NaN</td>\n",
              "      <td>NaN</td>\n",
              "      <td>NaN</td>\n",
              "      <td>NaN</td>\n",
              "      <td>NaN</td>\n",
              "      <td>NaN</td>\n",
              "      <td>NaN</td>\n",
              "      <td>NaN</td>\n",
              "      <td>NaN</td>\n",
              "      <td>58.44</td>\n",
              "      <td>1.99</td>\n",
              "      <td>41.56</td>\n",
              "      <td>4.09</td>\n",
              "      <td>63.78</td>\n",
              "      <td>54.92</td>\n",
              "      <td>76.24</td>\n",
              "      <td>11.80</td>\n",
              "      <td>4.29</td>\n",
              "      <td>22.36</td>\n",
              "      <td>9.307690</td>\n",
              "      <td>2.315834</td>\n",
              "      <td>POINT (9.307689999999999 2.315834)</td>\n",
              "    </tr>\n",
              "    <tr>\n",
              "      <th>3</th>\n",
              "      <td>Botswana</td>\n",
              "      <td>2007</td>\n",
              "      <td>BWA</td>\n",
              "      <td>1.03</td>\n",
              "      <td>390.0</td>\n",
              "      <td>NaN</td>\n",
              "      <td>NaN</td>\n",
              "      <td>NaN</td>\n",
              "      <td>NaN</td>\n",
              "      <td>NaN</td>\n",
              "      <td>83.96</td>\n",
              "      <td>NaN</td>\n",
              "      <td>NaN</td>\n",
              "      <td>NaN</td>\n",
              "      <td>42.07</td>\n",
              "      <td>-1.44</td>\n",
              "      <td>57.93</td>\n",
              "      <td>4.80</td>\n",
              "      <td>78.89</td>\n",
              "      <td>57.60</td>\n",
              "      <td>94.35</td>\n",
              "      <td>61.60</td>\n",
              "      <td>39.99</td>\n",
              "      <td>77.30</td>\n",
              "      <td>-22.328474</td>\n",
              "      <td>24.684866</td>\n",
              "      <td>POINT (-22.328474 24.684866)</td>\n",
              "    </tr>\n",
              "    <tr>\n",
              "      <th>4</th>\n",
              "      <td>Burkina Faso</td>\n",
              "      <td>2007</td>\n",
              "      <td>BFA</td>\n",
              "      <td>503.80</td>\n",
              "      <td>44246.0</td>\n",
              "      <td>NaN</td>\n",
              "      <td>NaN</td>\n",
              "      <td>NaN</td>\n",
              "      <td>NaN</td>\n",
              "      <td>NaN</td>\n",
              "      <td>NaN</td>\n",
              "      <td>NaN</td>\n",
              "      <td>NaN</td>\n",
              "      <td>NaN</td>\n",
              "      <td>77.00</td>\n",
              "      <td>2.16</td>\n",
              "      <td>23.00</td>\n",
              "      <td>5.91</td>\n",
              "      <td>52.27</td>\n",
              "      <td>45.13</td>\n",
              "      <td>76.15</td>\n",
              "      <td>15.60</td>\n",
              "      <td>6.38</td>\n",
              "      <td>46.49</td>\n",
              "      <td>12.238333</td>\n",
              "      <td>-1.561593</td>\n",
              "      <td>POINT (12.238333 -1.561593)</td>\n",
              "    </tr>\n",
              "  </tbody>\n",
              "</table>\n",
              "</div>"
            ],
            "text/plain": [
              "   Country Name  Year  ...  longitude                            geometry\n",
              "0       Algeria  2007  ...   1.659626          POINT (28.033886 1.659626)\n",
              "1        Angola  2007  ...  17.873887        POINT (-11.202692 17.873887)\n",
              "2         Benin  2007  ...   2.315834  POINT (9.307689999999999 2.315834)\n",
              "3      Botswana  2007  ...  24.684866        POINT (-22.328474 24.684866)\n",
              "4  Burkina Faso  2007  ...  -1.561593         POINT (12.238333 -1.561593)\n",
              "\n",
              "[5 rows x 27 columns]"
            ]
          },
          "metadata": {},
          "execution_count": 4
        }
      ]
    },
    {
      "cell_type": "code",
      "metadata": {
        "colab": {
          "base_uri": "https://localhost:8080/"
        },
        "id": "n1w6L1oEV-2k",
        "outputId": "9ea76107-d160-4585-ca55-295a3dbe030b"
      },
      "source": [
        "df.shape"
      ],
      "execution_count": null,
      "outputs": [
        {
          "output_type": "execute_result",
          "data": {
            "text/plain": [
              "(594, 27)"
            ]
          },
          "metadata": {},
          "execution_count": 5
        }
      ]
    },
    {
      "cell_type": "code",
      "metadata": {
        "colab": {
          "base_uri": "https://localhost:8080/"
        },
        "id": "RnkKkqiAV-2l",
        "outputId": "aa83e44d-b100-4763-a191-4c2cd49c2905"
      },
      "source": [
        "df.info()"
      ],
      "execution_count": null,
      "outputs": [
        {
          "output_type": "stream",
          "name": "stdout",
          "text": [
            "<class 'pandas.core.frame.DataFrame'>\n",
            "RangeIndex: 594 entries, 0 to 593\n",
            "Data columns (total 27 columns):\n",
            " #   Column                                                                                   Non-Null Count  Dtype  \n",
            "---  ------                                                                                   --------------  -----  \n",
            " 0   Country Name                                                                             594 non-null    object \n",
            " 1   Year                                                                                     594 non-null    int64  \n",
            " 2   Country Code                                                                             594 non-null    object \n",
            " 3   Incidence of malaria (per 1,000 population at risk)                                      550 non-null    float64\n",
            " 4   Malaria cases reported                                                                   550 non-null    float64\n",
            " 5   Use of insecticide-treated bed nets (% of under-5 population)                            132 non-null    float64\n",
            " 6   Children with fever receiving antimalarial drugs (% of children under age 5 with fever)  122 non-null    float64\n",
            " 7   Intermittent preventive treatment (IPT) of malaria in pregnancy (% of pregnant women)    106 non-null    float64\n",
            " 8   People using safely managed drinking water services (% of population)                    99 non-null     float64\n",
            " 9   People using safely managed drinking water services, rural (% of rural population)       88 non-null     float64\n",
            " 10  People using safely managed drinking water services, urban (% of urban population)       176 non-null    float64\n",
            " 11  People using safely managed sanitation services (% of population)                        132 non-null    float64\n",
            " 12  People using safely managed sanitation services, rural (% of rural population)           110 non-null    float64\n",
            " 13  People using safely managed sanitation services, urban  (% of urban population)          132 non-null    float64\n",
            " 14  Rural population (% of total population)                                                 588 non-null    float64\n",
            " 15  Rural population growth (annual %)                                                       588 non-null    float64\n",
            " 16  Urban population (% of total population)                                                 588 non-null    float64\n",
            " 17  Urban population growth (annual %)                                                       588 non-null    float64\n",
            " 18  People using at least basic drinking water services (% of population)                    588 non-null    float64\n",
            " 19  People using at least basic drinking water services, rural (% of rural population)       566 non-null    float64\n",
            " 20  People using at least basic drinking water services, urban (% of urban population)       566 non-null    float64\n",
            " 21  People using at least basic sanitation services (% of population)                        588 non-null    float64\n",
            " 22  People using at least basic sanitation services, rural (% of rural population)           566 non-null    float64\n",
            " 23  People using at least basic sanitation services, urban  (% of urban population)          566 non-null    float64\n",
            " 24  latitude                                                                                 594 non-null    float64\n",
            " 25  longitude                                                                                594 non-null    float64\n",
            " 26  geometry                                                                                 594 non-null    object \n",
            "dtypes: float64(23), int64(1), object(3)\n",
            "memory usage: 125.4+ KB\n"
          ]
        }
      ]
    },
    {
      "cell_type": "code",
      "metadata": {
        "colab": {
          "base_uri": "https://localhost:8080/",
          "height": 476
        },
        "id": "LPnDmKQ5V-2m",
        "outputId": "b3a6f65d-258a-443d-cb38-9f99a6c96b54"
      },
      "source": [
        "df.describe()"
      ],
      "execution_count": null,
      "outputs": [
        {
          "output_type": "execute_result",
          "data": {
            "text/html": [
              "<div>\n",
              "<style scoped>\n",
              "    .dataframe tbody tr th:only-of-type {\n",
              "        vertical-align: middle;\n",
              "    }\n",
              "\n",
              "    .dataframe tbody tr th {\n",
              "        vertical-align: top;\n",
              "    }\n",
              "\n",
              "    .dataframe thead th {\n",
              "        text-align: right;\n",
              "    }\n",
              "</style>\n",
              "<table border=\"1\" class=\"dataframe\">\n",
              "  <thead>\n",
              "    <tr style=\"text-align: right;\">\n",
              "      <th></th>\n",
              "      <th>Year</th>\n",
              "      <th>Incidence of malaria (per 1,000 population at risk)</th>\n",
              "      <th>Malaria cases reported</th>\n",
              "      <th>Use of insecticide-treated bed nets (% of under-5 population)</th>\n",
              "      <th>Children with fever receiving antimalarial drugs (% of children under age 5 with fever)</th>\n",
              "      <th>Intermittent preventive treatment (IPT) of malaria in pregnancy (% of pregnant women)</th>\n",
              "      <th>People using safely managed drinking water services (% of population)</th>\n",
              "      <th>People using safely managed drinking water services, rural (% of rural population)</th>\n",
              "      <th>People using safely managed drinking water services, urban (% of urban population)</th>\n",
              "      <th>People using safely managed sanitation services (% of population)</th>\n",
              "      <th>People using safely managed sanitation services, rural (% of rural population)</th>\n",
              "      <th>People using safely managed sanitation services, urban  (% of urban population)</th>\n",
              "      <th>Rural population (% of total population)</th>\n",
              "      <th>Rural population growth (annual %)</th>\n",
              "      <th>Urban population (% of total population)</th>\n",
              "      <th>Urban population growth (annual %)</th>\n",
              "      <th>People using at least basic drinking water services (% of population)</th>\n",
              "      <th>People using at least basic drinking water services, rural (% of rural population)</th>\n",
              "      <th>People using at least basic drinking water services, urban (% of urban population)</th>\n",
              "      <th>People using at least basic sanitation services (% of population)</th>\n",
              "      <th>People using at least basic sanitation services, rural (% of rural population)</th>\n",
              "      <th>People using at least basic sanitation services, urban  (% of urban population)</th>\n",
              "      <th>latitude</th>\n",
              "      <th>longitude</th>\n",
              "    </tr>\n",
              "  </thead>\n",
              "  <tbody>\n",
              "    <tr>\n",
              "      <th>count</th>\n",
              "      <td>594.000000</td>\n",
              "      <td>550.000000</td>\n",
              "      <td>5.500000e+02</td>\n",
              "      <td>132.000000</td>\n",
              "      <td>122.000000</td>\n",
              "      <td>106.000000</td>\n",
              "      <td>99.000000</td>\n",
              "      <td>88.000000</td>\n",
              "      <td>176.000000</td>\n",
              "      <td>132.000000</td>\n",
              "      <td>110.000000</td>\n",
              "      <td>132.000000</td>\n",
              "      <td>588.000000</td>\n",
              "      <td>588.000000</td>\n",
              "      <td>588.000000</td>\n",
              "      <td>588.000000</td>\n",
              "      <td>588.000000</td>\n",
              "      <td>566.000000</td>\n",
              "      <td>566.000000</td>\n",
              "      <td>588.000000</td>\n",
              "      <td>566.000000</td>\n",
              "      <td>566.000000</td>\n",
              "      <td>594.000000</td>\n",
              "      <td>594.000000</td>\n",
              "    </tr>\n",
              "    <tr>\n",
              "      <th>mean</th>\n",
              "      <td>2012.000000</td>\n",
              "      <td>190.087491</td>\n",
              "      <td>1.068330e+06</td>\n",
              "      <td>42.530303</td>\n",
              "      <td>30.201639</td>\n",
              "      <td>15.013958</td>\n",
              "      <td>33.478990</td>\n",
              "      <td>12.470568</td>\n",
              "      <td>51.549545</td>\n",
              "      <td>28.768939</td>\n",
              "      <td>14.361727</td>\n",
              "      <td>32.174621</td>\n",
              "      <td>56.836650</td>\n",
              "      <td>1.389371</td>\n",
              "      <td>43.164116</td>\n",
              "      <td>3.523061</td>\n",
              "      <td>65.994915</td>\n",
              "      <td>51.449576</td>\n",
              "      <td>84.268498</td>\n",
              "      <td>39.469796</td>\n",
              "      <td>28.077208</td>\n",
              "      <td>48.088375</td>\n",
              "      <td>2.828796</td>\n",
              "      <td>17.342546</td>\n",
              "    </tr>\n",
              "    <tr>\n",
              "      <th>std</th>\n",
              "      <td>3.164943</td>\n",
              "      <td>163.054527</td>\n",
              "      <td>2.192802e+06</td>\n",
              "      <td>20.157059</td>\n",
              "      <td>18.903198</td>\n",
              "      <td>12.389166</td>\n",
              "      <td>26.678321</td>\n",
              "      <td>10.078371</td>\n",
              "      <td>24.157416</td>\n",
              "      <td>18.631510</td>\n",
              "      <td>7.088038</td>\n",
              "      <td>21.693458</td>\n",
              "      <td>18.086328</td>\n",
              "      <td>1.199693</td>\n",
              "      <td>18.086118</td>\n",
              "      <td>1.456244</td>\n",
              "      <td>17.283361</td>\n",
              "      <td>18.927868</td>\n",
              "      <td>9.307285</td>\n",
              "      <td>26.304934</td>\n",
              "      <td>24.046725</td>\n",
              "      <td>21.802128</td>\n",
              "      <td>15.678226</td>\n",
              "      <td>20.041257</td>\n",
              "    </tr>\n",
              "    <tr>\n",
              "      <th>min</th>\n",
              "      <td>2007.000000</td>\n",
              "      <td>0.000000</td>\n",
              "      <td>0.000000e+00</td>\n",
              "      <td>1.000000</td>\n",
              "      <td>0.500000</td>\n",
              "      <td>0.000000</td>\n",
              "      <td>5.770000</td>\n",
              "      <td>0.930000</td>\n",
              "      <td>11.200000</td>\n",
              "      <td>6.370000</td>\n",
              "      <td>2.300000</td>\n",
              "      <td>7.950000</td>\n",
              "      <td>11.020000</td>\n",
              "      <td>-3.450000</td>\n",
              "      <td>9.860000</td>\n",
              "      <td>-4.650000</td>\n",
              "      <td>28.960000</td>\n",
              "      <td>17.050000</td>\n",
              "      <td>52.010000</td>\n",
              "      <td>4.990000</td>\n",
              "      <td>1.890000</td>\n",
              "      <td>12.580000</td>\n",
              "      <td>-30.559482</td>\n",
              "      <td>-24.013197</td>\n",
              "    </tr>\n",
              "    <tr>\n",
              "      <th>25%</th>\n",
              "      <td>2009.000000</td>\n",
              "      <td>30.857500</td>\n",
              "      <td>2.211750e+03</td>\n",
              "      <td>26.675000</td>\n",
              "      <td>17.275000</td>\n",
              "      <td>5.763285</td>\n",
              "      <td>8.975000</td>\n",
              "      <td>4.185000</td>\n",
              "      <td>34.125000</td>\n",
              "      <td>16.532500</td>\n",
              "      <td>7.200000</td>\n",
              "      <td>18.262500</td>\n",
              "      <td>43.057500</td>\n",
              "      <td>0.410000</td>\n",
              "      <td>28.795000</td>\n",
              "      <td>2.512500</td>\n",
              "      <td>52.375000</td>\n",
              "      <td>37.075000</td>\n",
              "      <td>78.080000</td>\n",
              "      <td>18.197500</td>\n",
              "      <td>8.842500</td>\n",
              "      <td>30.775000</td>\n",
              "      <td>-6.369028</td>\n",
              "      <td>0.824782</td>\n",
              "    </tr>\n",
              "    <tr>\n",
              "      <th>50%</th>\n",
              "      <td>2012.000000</td>\n",
              "      <td>174.775000</td>\n",
              "      <td>1.130260e+05</td>\n",
              "      <td>42.900000</td>\n",
              "      <td>29.300000</td>\n",
              "      <td>11.500000</td>\n",
              "      <td>28.390000</td>\n",
              "      <td>10.675000</td>\n",
              "      <td>51.365000</td>\n",
              "      <td>25.410000</td>\n",
              "      <td>15.950000</td>\n",
              "      <td>22.755000</td>\n",
              "      <td>58.445000</td>\n",
              "      <td>1.675000</td>\n",
              "      <td>41.560000</td>\n",
              "      <td>3.730000</td>\n",
              "      <td>64.470000</td>\n",
              "      <td>50.435000</td>\n",
              "      <td>85.420000</td>\n",
              "      <td>32.555000</td>\n",
              "      <td>18.815000</td>\n",
              "      <td>44.695000</td>\n",
              "      <td>6.744051</td>\n",
              "      <td>18.611308</td>\n",
              "    </tr>\n",
              "    <tr>\n",
              "      <th>75%</th>\n",
              "      <td>2015.000000</td>\n",
              "      <td>347.637500</td>\n",
              "      <td>1.154808e+06</td>\n",
              "      <td>56.325000</td>\n",
              "      <td>42.625000</td>\n",
              "      <td>21.850000</td>\n",
              "      <td>43.890000</td>\n",
              "      <td>16.887500</td>\n",
              "      <td>70.747500</td>\n",
              "      <td>35.725000</td>\n",
              "      <td>20.315000</td>\n",
              "      <td>39.225000</td>\n",
              "      <td>71.205000</td>\n",
              "      <td>2.130000</td>\n",
              "      <td>56.945000</td>\n",
              "      <td>4.450000</td>\n",
              "      <td>79.165000</td>\n",
              "      <td>62.245000</td>\n",
              "      <td>90.082500</td>\n",
              "      <td>54.810000</td>\n",
              "      <td>38.082500</td>\n",
              "      <td>58.845000</td>\n",
              "      <td>12.862807</td>\n",
              "      <td>31.465866</td>\n",
              "    </tr>\n",
              "    <tr>\n",
              "      <th>max</th>\n",
              "      <td>2017.000000</td>\n",
              "      <td>585.540000</td>\n",
              "      <td>1.682113e+07</td>\n",
              "      <td>95.500000</td>\n",
              "      <td>76.900000</td>\n",
              "      <td>59.600000</td>\n",
              "      <td>92.660000</td>\n",
              "      <td>39.930000</td>\n",
              "      <td>89.540000</td>\n",
              "      <td>78.120000</td>\n",
              "      <td>25.540000</td>\n",
              "      <td>88.290000</td>\n",
              "      <td>90.140000</td>\n",
              "      <td>7.090000</td>\n",
              "      <td>88.980000</td>\n",
              "      <td>7.400000</td>\n",
              "      <td>99.870000</td>\n",
              "      <td>99.830000</td>\n",
              "      <td>99.920000</td>\n",
              "      <td>100.000000</td>\n",
              "      <td>95.180000</td>\n",
              "      <td>98.300000</td>\n",
              "      <td>33.886917</td>\n",
              "      <td>57.552152</td>\n",
              "    </tr>\n",
              "  </tbody>\n",
              "</table>\n",
              "</div>"
            ],
            "text/plain": [
              "              Year  ...   longitude\n",
              "count   594.000000  ...  594.000000\n",
              "mean   2012.000000  ...   17.342546\n",
              "std       3.164943  ...   20.041257\n",
              "min    2007.000000  ...  -24.013197\n",
              "25%    2009.000000  ...    0.824782\n",
              "50%    2012.000000  ...   18.611308\n",
              "75%    2015.000000  ...   31.465866\n",
              "max    2017.000000  ...   57.552152\n",
              "\n",
              "[8 rows x 24 columns]"
            ]
          },
          "metadata": {},
          "execution_count": 7
        }
      ]
    },
    {
      "cell_type": "code",
      "metadata": {
        "id": "LZk_2NbQW036"
      },
      "source": [
        "#preproccessing data\n",
        "#replace null values with mean of each column for country subsetted dataframe\n",
        "def fillna_country(df,country,col):\n",
        "  country_data = df.loc[lambda df: df['Country Name'] == country]\n",
        "\n",
        "  if country_data[col].isna().sum() > 0:\n",
        "    if country_data[col].notnull().sum() > 0:\n",
        "      country_mean = country_data[col].mean()\n",
        "\n",
        "      for i in country_data.index:\n",
        "        null_check = df[col][i] > 0\n",
        "        if null_check == False:\n",
        "          df[col][i] = country_mean\n",
        "      \n",
        "def fillna_dataframe(df):\n",
        "  for country in df['Country Name'].unique():\n",
        "    for col in df.iloc[:, 3:24]:\n",
        "      fillna_country(df,country,col)\n",
        "    for col in df.iloc[:, 3:24]:\n",
        "      df[col].fillna(df[col].mean(), inplace=True)\n",
        "  \n",
        "fillna_dataframe(df)"
      ],
      "execution_count": null,
      "outputs": []
    },
    {
      "cell_type": "code",
      "metadata": {
        "colab": {
          "base_uri": "https://localhost:8080/"
        },
        "id": "0HEK3EXniv4W",
        "outputId": "bb0a32b4-ff54-4277-f837-391cc6c54ae2"
      },
      "source": [
        "#all values are now non null\n",
        "df.isnull().sum()"
      ],
      "execution_count": null,
      "outputs": [
        {
          "output_type": "execute_result",
          "data": {
            "text/plain": [
              "Country Name                                                                               0\n",
              "Year                                                                                       0\n",
              "Country Code                                                                               0\n",
              "Incidence of malaria (per 1,000 population at risk)                                        0\n",
              "Malaria cases reported                                                                     0\n",
              "Use of insecticide-treated bed nets (% of under-5 population)                              0\n",
              "Children with fever receiving antimalarial drugs (% of children under age 5 with fever)    0\n",
              "Intermittent preventive treatment (IPT) of malaria in pregnancy (% of pregnant women)      0\n",
              "People using safely managed drinking water services (% of population)                      0\n",
              "People using safely managed drinking water services, rural (% of rural population)         0\n",
              "People using safely managed drinking water services, urban (% of urban population)         0\n",
              "People using safely managed sanitation services (% of population)                          0\n",
              "People using safely managed sanitation services, rural (% of rural population)             0\n",
              "People using safely managed sanitation services, urban  (% of urban population)            0\n",
              "Rural population (% of total population)                                                   0\n",
              "Rural population growth (annual %)                                                         0\n",
              "Urban population (% of total population)                                                   0\n",
              "Urban population growth (annual %)                                                         0\n",
              "People using at least basic drinking water services (% of population)                      0\n",
              "People using at least basic drinking water services, rural (% of rural population)         0\n",
              "People using at least basic drinking water services, urban (% of urban population)         0\n",
              "People using at least basic sanitation services (% of population)                          0\n",
              "People using at least basic sanitation services, rural (% of rural population)             0\n",
              "People using at least basic sanitation services, urban  (% of urban population)            0\n",
              "latitude                                                                                   0\n",
              "longitude                                                                                  0\n",
              "geometry                                                                                   0\n",
              "dtype: int64"
            ]
          },
          "metadata": {},
          "execution_count": 9
        }
      ]
    },
    {
      "cell_type": "code",
      "metadata": {
        "colab": {
          "base_uri": "https://localhost:8080/",
          "height": 476
        },
        "id": "84YhP8RW7AkM",
        "outputId": "0cabcf08-d635-4e5b-9030-6222623affa1"
      },
      "source": [
        "df.describe()"
      ],
      "execution_count": null,
      "outputs": [
        {
          "output_type": "execute_result",
          "data": {
            "text/html": [
              "<div>\n",
              "<style scoped>\n",
              "    .dataframe tbody tr th:only-of-type {\n",
              "        vertical-align: middle;\n",
              "    }\n",
              "\n",
              "    .dataframe tbody tr th {\n",
              "        vertical-align: top;\n",
              "    }\n",
              "\n",
              "    .dataframe thead th {\n",
              "        text-align: right;\n",
              "    }\n",
              "</style>\n",
              "<table border=\"1\" class=\"dataframe\">\n",
              "  <thead>\n",
              "    <tr style=\"text-align: right;\">\n",
              "      <th></th>\n",
              "      <th>Year</th>\n",
              "      <th>Incidence of malaria (per 1,000 population at risk)</th>\n",
              "      <th>Malaria cases reported</th>\n",
              "      <th>Use of insecticide-treated bed nets (% of under-5 population)</th>\n",
              "      <th>Children with fever receiving antimalarial drugs (% of children under age 5 with fever)</th>\n",
              "      <th>Intermittent preventive treatment (IPT) of malaria in pregnancy (% of pregnant women)</th>\n",
              "      <th>People using safely managed drinking water services (% of population)</th>\n",
              "      <th>People using safely managed drinking water services, rural (% of rural population)</th>\n",
              "      <th>People using safely managed drinking water services, urban (% of urban population)</th>\n",
              "      <th>People using safely managed sanitation services (% of population)</th>\n",
              "      <th>People using safely managed sanitation services, rural (% of rural population)</th>\n",
              "      <th>People using safely managed sanitation services, urban  (% of urban population)</th>\n",
              "      <th>Rural population (% of total population)</th>\n",
              "      <th>Rural population growth (annual %)</th>\n",
              "      <th>Urban population (% of total population)</th>\n",
              "      <th>Urban population growth (annual %)</th>\n",
              "      <th>People using at least basic drinking water services (% of population)</th>\n",
              "      <th>People using at least basic drinking water services, rural (% of rural population)</th>\n",
              "      <th>People using at least basic drinking water services, urban (% of urban population)</th>\n",
              "      <th>People using at least basic sanitation services (% of population)</th>\n",
              "      <th>People using at least basic sanitation services, rural (% of rural population)</th>\n",
              "      <th>People using at least basic sanitation services, urban  (% of urban population)</th>\n",
              "      <th>latitude</th>\n",
              "      <th>longitude</th>\n",
              "    </tr>\n",
              "  </thead>\n",
              "  <tbody>\n",
              "    <tr>\n",
              "      <th>count</th>\n",
              "      <td>594.000000</td>\n",
              "      <td>594.000000</td>\n",
              "      <td>5.940000e+02</td>\n",
              "      <td>594.000000</td>\n",
              "      <td>594.000000</td>\n",
              "      <td>594.000000</td>\n",
              "      <td>594.000000</td>\n",
              "      <td>594.000000</td>\n",
              "      <td>594.000000</td>\n",
              "      <td>594.000000</td>\n",
              "      <td>594.000000</td>\n",
              "      <td>594.000000</td>\n",
              "      <td>594.000000</td>\n",
              "      <td>594.000000</td>\n",
              "      <td>594.000000</td>\n",
              "      <td>594.000000</td>\n",
              "      <td>594.000000</td>\n",
              "      <td>594.000000</td>\n",
              "      <td>594.000000</td>\n",
              "      <td>594.000000</td>\n",
              "      <td>594.000000</td>\n",
              "      <td>594.000000</td>\n",
              "      <td>594.000000</td>\n",
              "      <td>594.000000</td>\n",
              "    </tr>\n",
              "    <tr>\n",
              "      <th>mean</th>\n",
              "      <td>2012.000000</td>\n",
              "      <td>190.087491</td>\n",
              "      <td>1.068330e+06</td>\n",
              "      <td>42.530303</td>\n",
              "      <td>30.201639</td>\n",
              "      <td>15.013958</td>\n",
              "      <td>33.478990</td>\n",
              "      <td>12.470568</td>\n",
              "      <td>51.549545</td>\n",
              "      <td>28.768939</td>\n",
              "      <td>14.361727</td>\n",
              "      <td>32.174621</td>\n",
              "      <td>56.836650</td>\n",
              "      <td>1.389371</td>\n",
              "      <td>43.164116</td>\n",
              "      <td>3.523061</td>\n",
              "      <td>65.994915</td>\n",
              "      <td>51.449576</td>\n",
              "      <td>84.268498</td>\n",
              "      <td>39.469796</td>\n",
              "      <td>28.077208</td>\n",
              "      <td>48.088375</td>\n",
              "      <td>2.828796</td>\n",
              "      <td>17.342546</td>\n",
              "    </tr>\n",
              "    <tr>\n",
              "      <th>std</th>\n",
              "      <td>3.164943</td>\n",
              "      <td>156.888708</td>\n",
              "      <td>2.109882e+06</td>\n",
              "      <td>9.474045</td>\n",
              "      <td>8.538874</td>\n",
              "      <td>5.213260</td>\n",
              "      <td>10.845365</td>\n",
              "      <td>3.860314</td>\n",
              "      <td>13.123273</td>\n",
              "      <td>8.757020</td>\n",
              "      <td>3.038869</td>\n",
              "      <td>10.196170</td>\n",
              "      <td>17.994596</td>\n",
              "      <td>1.193608</td>\n",
              "      <td>17.994387</td>\n",
              "      <td>1.448858</td>\n",
              "      <td>17.195701</td>\n",
              "      <td>18.475601</td>\n",
              "      <td>9.084895</td>\n",
              "      <td>26.171519</td>\n",
              "      <td>23.472147</td>\n",
              "      <td>21.281183</td>\n",
              "      <td>15.678226</td>\n",
              "      <td>20.041257</td>\n",
              "    </tr>\n",
              "    <tr>\n",
              "      <th>min</th>\n",
              "      <td>2007.000000</td>\n",
              "      <td>0.000000</td>\n",
              "      <td>0.000000e+00</td>\n",
              "      <td>1.000000</td>\n",
              "      <td>0.500000</td>\n",
              "      <td>0.000000</td>\n",
              "      <td>5.770000</td>\n",
              "      <td>0.930000</td>\n",
              "      <td>11.200000</td>\n",
              "      <td>6.370000</td>\n",
              "      <td>2.300000</td>\n",
              "      <td>7.950000</td>\n",
              "      <td>11.020000</td>\n",
              "      <td>-3.450000</td>\n",
              "      <td>9.860000</td>\n",
              "      <td>-4.650000</td>\n",
              "      <td>28.960000</td>\n",
              "      <td>17.050000</td>\n",
              "      <td>52.010000</td>\n",
              "      <td>4.990000</td>\n",
              "      <td>1.890000</td>\n",
              "      <td>12.580000</td>\n",
              "      <td>-30.559482</td>\n",
              "      <td>-24.013197</td>\n",
              "    </tr>\n",
              "    <tr>\n",
              "      <th>25%</th>\n",
              "      <td>2009.000000</td>\n",
              "      <td>35.355000</td>\n",
              "      <td>3.705750e+03</td>\n",
              "      <td>42.530303</td>\n",
              "      <td>30.201639</td>\n",
              "      <td>15.013958</td>\n",
              "      <td>33.478990</td>\n",
              "      <td>12.470568</td>\n",
              "      <td>51.549545</td>\n",
              "      <td>28.768939</td>\n",
              "      <td>14.361727</td>\n",
              "      <td>32.174621</td>\n",
              "      <td>43.635000</td>\n",
              "      <td>0.412500</td>\n",
              "      <td>29.627500</td>\n",
              "      <td>2.522500</td>\n",
              "      <td>52.517500</td>\n",
              "      <td>37.465000</td>\n",
              "      <td>78.387500</td>\n",
              "      <td>18.272500</td>\n",
              "      <td>9.050000</td>\n",
              "      <td>31.142500</td>\n",
              "      <td>-6.369028</td>\n",
              "      <td>0.824782</td>\n",
              "    </tr>\n",
              "    <tr>\n",
              "      <th>50%</th>\n",
              "      <td>2012.000000</td>\n",
              "      <td>190.087491</td>\n",
              "      <td>2.014490e+05</td>\n",
              "      <td>42.530303</td>\n",
              "      <td>30.201639</td>\n",
              "      <td>15.013958</td>\n",
              "      <td>33.478990</td>\n",
              "      <td>12.470568</td>\n",
              "      <td>51.549545</td>\n",
              "      <td>28.768939</td>\n",
              "      <td>14.361727</td>\n",
              "      <td>32.174621</td>\n",
              "      <td>58.405000</td>\n",
              "      <td>1.660000</td>\n",
              "      <td>41.595000</td>\n",
              "      <td>3.725000</td>\n",
              "      <td>64.620000</td>\n",
              "      <td>51.365000</td>\n",
              "      <td>84.905000</td>\n",
              "      <td>33.115000</td>\n",
              "      <td>19.895000</td>\n",
              "      <td>45.465000</td>\n",
              "      <td>6.744051</td>\n",
              "      <td>18.611308</td>\n",
              "    </tr>\n",
              "    <tr>\n",
              "      <th>75%</th>\n",
              "      <td>2015.000000</td>\n",
              "      <td>337.367500</td>\n",
              "      <td>1.068330e+06</td>\n",
              "      <td>42.530303</td>\n",
              "      <td>30.201639</td>\n",
              "      <td>15.013958</td>\n",
              "      <td>33.478990</td>\n",
              "      <td>12.470568</td>\n",
              "      <td>51.549545</td>\n",
              "      <td>28.768939</td>\n",
              "      <td>14.361727</td>\n",
              "      <td>32.174621</td>\n",
              "      <td>70.372500</td>\n",
              "      <td>2.127500</td>\n",
              "      <td>56.365000</td>\n",
              "      <td>4.435000</td>\n",
              "      <td>78.942500</td>\n",
              "      <td>61.405000</td>\n",
              "      <td>89.865000</td>\n",
              "      <td>54.515000</td>\n",
              "      <td>36.640000</td>\n",
              "      <td>57.627500</td>\n",
              "      <td>12.862807</td>\n",
              "      <td>31.465866</td>\n",
              "    </tr>\n",
              "    <tr>\n",
              "      <th>max</th>\n",
              "      <td>2017.000000</td>\n",
              "      <td>585.540000</td>\n",
              "      <td>1.682113e+07</td>\n",
              "      <td>95.500000</td>\n",
              "      <td>76.900000</td>\n",
              "      <td>59.600000</td>\n",
              "      <td>92.660000</td>\n",
              "      <td>39.930000</td>\n",
              "      <td>89.540000</td>\n",
              "      <td>78.120000</td>\n",
              "      <td>25.540000</td>\n",
              "      <td>88.290000</td>\n",
              "      <td>90.140000</td>\n",
              "      <td>7.090000</td>\n",
              "      <td>88.980000</td>\n",
              "      <td>7.400000</td>\n",
              "      <td>99.870000</td>\n",
              "      <td>99.830000</td>\n",
              "      <td>99.920000</td>\n",
              "      <td>100.000000</td>\n",
              "      <td>95.180000</td>\n",
              "      <td>98.300000</td>\n",
              "      <td>33.886917</td>\n",
              "      <td>57.552152</td>\n",
              "    </tr>\n",
              "  </tbody>\n",
              "</table>\n",
              "</div>"
            ],
            "text/plain": [
              "              Year  ...   longitude\n",
              "count   594.000000  ...  594.000000\n",
              "mean   2012.000000  ...   17.342546\n",
              "std       3.164943  ...   20.041257\n",
              "min    2007.000000  ...  -24.013197\n",
              "25%    2009.000000  ...    0.824782\n",
              "50%    2012.000000  ...   18.611308\n",
              "75%    2015.000000  ...   31.465866\n",
              "max    2017.000000  ...   57.552152\n",
              "\n",
              "[8 rows x 24 columns]"
            ]
          },
          "metadata": {},
          "execution_count": 10
        }
      ]
    },
    {
      "cell_type": "code",
      "metadata": {
        "id": "6wU8hwYui3Hp",
        "colab": {
          "base_uri": "https://localhost:8080/",
          "height": 587
        },
        "outputId": "4deac892-1c36-46d5-e4ff-51f6c4bc0c0d"
      },
      "source": [
        "#check target variable distribution\n",
        "from scipy.stats import norm\n",
        "plt.figure(figsize=(8,8))\n",
        "sns.distplot(df['Incidence of malaria (per 1,000 population at risk)'], fit=norm)\n",
        "plt.title(\"Target variable Distribution Plot\",size=15, weight='bold')"
      ],
      "execution_count": null,
      "outputs": [
        {
          "output_type": "stream",
          "name": "stderr",
          "text": [
            "/usr/local/lib/python3.7/dist-packages/seaborn/distributions.py:2619: FutureWarning: `distplot` is a deprecated function and will be removed in a future version. Please adapt your code to use either `displot` (a figure-level function with similar flexibility) or `histplot` (an axes-level function for histograms).\n",
            "  warnings.warn(msg, FutureWarning)\n"
          ]
        },
        {
          "output_type": "execute_result",
          "data": {
            "text/plain": [
              "Text(0.5, 1.0, 'Target variable Distribution Plot')"
            ]
          },
          "metadata": {},
          "execution_count": 11
        },
        {
          "output_type": "display_data",
          "data": {
            "image/png": "[encoded data removed]",
            "text/plain": [
              "<Figure size 576x576 with 1 Axes>"
            ]
          },
          "metadata": {
            "needs_background": "light"
          }
        }
      ]
    },
    {
      "cell_type": "code",
      "metadata": {
        "colab": {
          "base_uri": "https://localhost:8080/",
          "height": 975
        },
        "id": "r0rPDbeNMLAR",
        "outputId": "65c064a0-4fcb-425a-8d00-fd52fc918bec"
      },
      "source": [
        "#check for features that are highly correlated \n",
        "features_for_plot = df.drop(columns=['latitude', 'longitude', 'geometry'])\n",
        "colormap = plt.cm.RdBu\n",
        "plt.figure(figsize=(10,10))\n",
        "plt.title('Pearson Correlation of Features', y=1.05, size=15)\n",
        "sns.heatmap(features_for_plot.corr(),linewidths=0.1,vmax=1.0, square=True, cmap=colormap, linecolor='white', annot=False)\n",
        "plt.show()"
      ],
      "execution_count": null,
      "outputs": [
        {
          "output_type": "display_data",
          "data": {
            "image/png": "[encoded data removed]",
            "text/plain": [
              "<Figure size 720x720 with 2 Axes>"
            ]
          },
          "metadata": {
            "needs_background": "light"
          }
        }
      ]
    },
    {
      "cell_type": "code",
      "metadata": {
        "id": "lgcu9zm5UOtu"
      },
      "source": [
        "#dropping highly correlated features\n",
        "features = df.drop(columns=['latitude', 'longitude', 'geometry', 'Year', \n",
        "                            'Incidence of malaria (per 1,000 population at risk)', 'Country Name','Country Code', \n",
        "                            'People using at least basic sanitation services, rural (% of rural population)',\n",
        "                            'People using at least basic sanitation services, urban  (% of urban population)',\n",
        "                            'People using at least basic drinking water services, urban (% of urban population)',\n",
        "                            'People using at least basic drinking water services, rural (% of rural population)'])\n",
        "\n",
        "X = features\n",
        "Y = df['Incidence of malaria (per 1,000 population at risk)']"
      ],
      "execution_count": null,
      "outputs": []
    },
    {
      "cell_type": "code",
      "metadata": {
        "colab": {
          "base_uri": "https://localhost:8080/",
          "height": 382
        },
        "id": "qiYHeU-2Vryr",
        "outputId": "b07a2c76-499a-4850-9589-c57d71968842"
      },
      "source": [
        "X.head()"
      ],
      "execution_count": null,
      "outputs": [
        {
          "output_type": "execute_result",
          "data": {
            "text/html": [
              "<div>\n",
              "<style scoped>\n",
              "    .dataframe tbody tr th:only-of-type {\n",
              "        vertical-align: middle;\n",
              "    }\n",
              "\n",
              "    .dataframe tbody tr th {\n",
              "        vertical-align: top;\n",
              "    }\n",
              "\n",
              "    .dataframe thead th {\n",
              "        text-align: right;\n",
              "    }\n",
              "</style>\n",
              "<table border=\"1\" class=\"dataframe\">\n",
              "  <thead>\n",
              "    <tr style=\"text-align: right;\">\n",
              "      <th></th>\n",
              "      <th>Malaria cases reported</th>\n",
              "      <th>Use of insecticide-treated bed nets (% of under-5 population)</th>\n",
              "      <th>Children with fever receiving antimalarial drugs (% of children under age 5 with fever)</th>\n",
              "      <th>Intermittent preventive treatment (IPT) of malaria in pregnancy (% of pregnant women)</th>\n",
              "      <th>People using safely managed drinking water services (% of population)</th>\n",
              "      <th>People using safely managed drinking water services, rural (% of rural population)</th>\n",
              "      <th>People using safely managed drinking water services, urban (% of urban population)</th>\n",
              "      <th>People using safely managed sanitation services (% of population)</th>\n",
              "      <th>People using safely managed sanitation services, rural (% of rural population)</th>\n",
              "      <th>People using safely managed sanitation services, urban  (% of urban population)</th>\n",
              "      <th>Rural population (% of total population)</th>\n",
              "      <th>Rural population growth (annual %)</th>\n",
              "      <th>Urban population (% of total population)</th>\n",
              "      <th>Urban population growth (annual %)</th>\n",
              "      <th>People using at least basic drinking water services (% of population)</th>\n",
              "      <th>People using at least basic sanitation services (% of population)</th>\n",
              "    </tr>\n",
              "  </thead>\n",
              "  <tbody>\n",
              "    <tr>\n",
              "      <th>0</th>\n",
              "      <td>26.0</td>\n",
              "      <td>42.530303</td>\n",
              "      <td>30.201639</td>\n",
              "      <td>15.013958</td>\n",
              "      <td>33.47899</td>\n",
              "      <td>12.470568</td>\n",
              "      <td>51.549545</td>\n",
              "      <td>18.240000</td>\n",
              "      <td>19.960000</td>\n",
              "      <td>17.330000</td>\n",
              "      <td>34.65</td>\n",
              "      <td>-0.60</td>\n",
              "      <td>65.35</td>\n",
              "      <td>2.71</td>\n",
              "      <td>91.68</td>\n",
              "      <td>85.85</td>\n",
              "    </tr>\n",
              "    <tr>\n",
              "      <th>1</th>\n",
              "      <td>1533485.0</td>\n",
              "      <td>18.000000</td>\n",
              "      <td>29.800000</td>\n",
              "      <td>1.500000</td>\n",
              "      <td>33.47899</td>\n",
              "      <td>12.470568</td>\n",
              "      <td>51.549545</td>\n",
              "      <td>28.768939</td>\n",
              "      <td>14.361727</td>\n",
              "      <td>32.174621</td>\n",
              "      <td>42.48</td>\n",
              "      <td>1.91</td>\n",
              "      <td>57.52</td>\n",
              "      <td>5.01</td>\n",
              "      <td>47.96</td>\n",
              "      <td>37.26</td>\n",
              "    </tr>\n",
              "    <tr>\n",
              "      <th>2</th>\n",
              "      <td>0.0</td>\n",
              "      <td>42.530303</td>\n",
              "      <td>30.201639</td>\n",
              "      <td>15.013958</td>\n",
              "      <td>33.47899</td>\n",
              "      <td>12.470568</td>\n",
              "      <td>51.549545</td>\n",
              "      <td>28.768939</td>\n",
              "      <td>14.361727</td>\n",
              "      <td>32.174621</td>\n",
              "      <td>58.44</td>\n",
              "      <td>1.99</td>\n",
              "      <td>41.56</td>\n",
              "      <td>4.09</td>\n",
              "      <td>63.78</td>\n",
              "      <td>11.80</td>\n",
              "    </tr>\n",
              "    <tr>\n",
              "      <th>3</th>\n",
              "      <td>390.0</td>\n",
              "      <td>42.530303</td>\n",
              "      <td>30.201639</td>\n",
              "      <td>15.013958</td>\n",
              "      <td>33.47899</td>\n",
              "      <td>12.470568</td>\n",
              "      <td>83.960000</td>\n",
              "      <td>28.768939</td>\n",
              "      <td>14.361727</td>\n",
              "      <td>32.174621</td>\n",
              "      <td>42.07</td>\n",
              "      <td>-1.44</td>\n",
              "      <td>57.93</td>\n",
              "      <td>4.80</td>\n",
              "      <td>78.89</td>\n",
              "      <td>61.60</td>\n",
              "    </tr>\n",
              "    <tr>\n",
              "      <th>4</th>\n",
              "      <td>44246.0</td>\n",
              "      <td>42.530303</td>\n",
              "      <td>30.201639</td>\n",
              "      <td>15.013958</td>\n",
              "      <td>33.47899</td>\n",
              "      <td>12.470568</td>\n",
              "      <td>51.549545</td>\n",
              "      <td>28.768939</td>\n",
              "      <td>14.361727</td>\n",
              "      <td>32.174621</td>\n",
              "      <td>77.00</td>\n",
              "      <td>2.16</td>\n",
              "      <td>23.00</td>\n",
              "      <td>5.91</td>\n",
              "      <td>52.27</td>\n",
              "      <td>15.60</td>\n",
              "    </tr>\n",
              "  </tbody>\n",
              "</table>\n",
              "</div>"
            ],
            "text/plain": [
              "   Malaria cases reported  ...  People using at least basic sanitation services (% of population)\n",
              "0                    26.0  ...                                              85.85                \n",
              "1               1533485.0  ...                                              37.26                \n",
              "2                     0.0  ...                                              11.80                \n",
              "3                   390.0  ...                                              61.60                \n",
              "4                 44246.0  ...                                              15.60                \n",
              "\n",
              "[5 rows x 16 columns]"
            ]
          },
          "metadata": {},
          "execution_count": 14
        }
      ]
    },
    {
      "cell_type": "code",
      "metadata": {
        "id": "u1n66kF1U4YW"
      },
      "source": [
        "#split training and testing data\n",
        "from sklearn.model_selection import train_test_split\n",
        "X_train, X_test, y_train, y_test = train_test_split(X, Y, test_size=0.20, random_state=42)"
      ],
      "execution_count": null,
      "outputs": []
    },
    {
      "cell_type": "code",
      "metadata": {
        "id": "2MmcTNNCVqGS"
      },
      "source": [
        "#scaling the data\n",
        "from sklearn.preprocessing import StandardScaler\n",
        "scaler = StandardScaler()\n",
        "X_train_std = scaler.fit_transform(X_train)\n",
        "X_test_std = scaler.transform(X_test)"
      ],
      "execution_count": null,
      "outputs": []
    },
    {
      "cell_type": "code",
      "metadata": {
        "id": "sZjuNspwVq4x"
      },
      "source": [
        "X_train = X_train_std\n",
        "X_test = X_test_std"
      ],
      "execution_count": null,
      "outputs": []
    },
    {
      "cell_type": "markdown",
      "metadata": {
        "id": "ehZppzOOkduu"
      },
      "source": [
        "Random Forest Regression"
      ]
    },
    {
      "cell_type": "code",
      "metadata": {
        "colab": {
          "base_uri": "https://localhost:8080/"
        },
        "id": "DeTojy6PkkIi",
        "outputId": "1cc0005f-b27e-4f7f-b6b9-d38ca53a8c83"
      },
      "source": [
        "from sklearn.ensemble import RandomForestRegressor\n",
        "from sklearn.model_selection import RandomizedSearchCV\n",
        "\n",
        "rf_regressor = RandomForestRegressor(random_state=42)\n",
        "\n",
        "rf_params = {'max_depth':np.arange(1,10,1),\n",
        "             'min_samples_split':np.arange(2,50,1),\n",
        "             'min_samples_leaf':np.arange(2,50,1),\n",
        "             'max_features':['sqrt', 'log2']}\n",
        "\n",
        "rf_regressor_cv = RandomizedSearchCV(rf_regressor, rf_params, cv=5, scoring='neg_root_mean_squared_error', random_state=42)\n",
        "\n",
        "\n",
        "rf_regressor_cv.fit(X_train, y_train)\n",
        "rf_regressor_cv.best_params_"
      ],
      "execution_count": null,
      "outputs": [
        {
          "output_type": "execute_result",
          "data": {
            "text/plain": [
              "{'max_depth': 9,\n",
              " 'max_features': 'sqrt',\n",
              " 'min_samples_leaf': 8,\n",
              " 'min_samples_split': 44}"
            ]
          },
          "metadata": {},
          "execution_count": 18
        }
      ]
    },
    {
      "cell_type": "code",
      "metadata": {
        "colab": {
          "base_uri": "https://localhost:8080/"
        },
        "id": "S3IwVVoylaxH",
        "outputId": "dacc2ec4-e24a-4270-8013-865b7a2ccae6"
      },
      "source": [
        "np.random.seed(42)\n",
        "\n",
        "best_rf_regressor = RandomForestRegressor(max_depth = 9, max_features = 'sqrt', min_samples_leaf= 8, min_samples_split=44)\n",
        "best_rf_regressor.fit(X_train, y_train)"
      ],
      "execution_count": null,
      "outputs": [
        {
          "output_type": "execute_result",
          "data": {
            "text/plain": [
              "RandomForestRegressor(max_depth=9, max_features='sqrt', min_samples_leaf=8,\n",
              "                      min_samples_split=44)"
            ]
          },
          "metadata": {},
          "execution_count": 19
        }
      ]
    },
    {
      "cell_type": "code",
      "metadata": {
        "colab": {
          "base_uri": "https://localhost:8080/"
        },
        "id": "aSVYrhSNlhqv",
        "outputId": "6dbb9cd2-7ced-40cf-b6c2-b709512d07fc"
      },
      "source": [
        "from sklearn.metrics import mean_squared_error\n",
        "\n",
        "train_r2_rf = round(best_rf_regressor.score(X_train, y_train),2)\n",
        "print('Training R2 score of Random Forest is {}'.format(train_r2_rf))\n",
        "y_train_predicted_rf = best_rf_regressor.predict(X_train)\n",
        "rmse_train_rf = (np.sqrt(mean_squared_error(y_train, y_train_predicted_rf)))\n",
        "print('RMSE on the training set for the Random Forest model is: {}'.format(rmse_train_rf))"
      ],
      "execution_count": null,
      "outputs": [
        {
          "output_type": "stream",
          "name": "stdout",
          "text": [
            "Training R2 score of Random Forest is 0.68\n",
            "RMSE on the training set for the Random Forest model is: 90.25105081620748\n"
          ]
        }
      ]
    },
    {
      "cell_type": "code",
      "metadata": {
        "colab": {
          "base_uri": "https://localhost:8080/"
        },
        "id": "s28Jg2T6lzdr",
        "outputId": "6362e2b7-1008-43a6-bb72-ab569b83f745"
      },
      "source": [
        "y_test_predicted_rf = best_rf_regressor.predict(X_test)\n",
        "rmse_test_rf= (np.sqrt(mean_squared_error(y_test, y_test_predicted_rf)))\n",
        "print(\"RMSE on testing set is for the Random Forest model is: {}\".format(rmse_test_rf))"
      ],
      "execution_count": null,
      "outputs": [
        {
          "output_type": "stream",
          "name": "stdout",
          "text": [
            "RMSE on testing set is for the Random Forest model is: 100.08270970565918\n"
          ]
        }
      ]
    },
    {
      "cell_type": "code",
      "metadata": {
        "colab": {
          "base_uri": "https://localhost:8080/",
          "height": 551
        },
        "id": "36ZmJgHal6ln",
        "outputId": "1f52fa99-6f15-4b16-8235-cf343390e929"
      },
      "source": [
        "rf_importance = pd.concat([pd.DataFrame(X.columns, columns={'Feature'}),pd.DataFrame(np.transpose(best_rf_regressor.feature_importances_), columns={'Importance'})], axis = 1) \n",
        "rf_importance.sort_values(by='Importance', ascending=False, inplace=True)\n",
        "rf_importance"
      ],
      "execution_count": null,
      "outputs": [
        {
          "output_type": "execute_result",
          "data": {
            "text/html": [
              "<div>\n",
              "<style scoped>\n",
              "    .dataframe tbody tr th:only-of-type {\n",
              "        vertical-align: middle;\n",
              "    }\n",
              "\n",
              "    .dataframe tbody tr th {\n",
              "        vertical-align: top;\n",
              "    }\n",
              "\n",
              "    .dataframe thead th {\n",
              "        text-align: right;\n",
              "    }\n",
              "</style>\n",
              "<table border=\"1\" class=\"dataframe\">\n",
              "  <thead>\n",
              "    <tr style=\"text-align: right;\">\n",
              "      <th></th>\n",
              "      <th>Feature</th>\n",
              "      <th>Importance</th>\n",
              "    </tr>\n",
              "  </thead>\n",
              "  <tbody>\n",
              "    <tr>\n",
              "      <th>15</th>\n",
              "      <td>People using at least basic sanitation service...</td>\n",
              "      <td>0.261495</td>\n",
              "    </tr>\n",
              "    <tr>\n",
              "      <th>13</th>\n",
              "      <td>Urban population growth (annual %)</td>\n",
              "      <td>0.137843</td>\n",
              "    </tr>\n",
              "    <tr>\n",
              "      <th>14</th>\n",
              "      <td>People using at least basic drinking water ser...</td>\n",
              "      <td>0.136019</td>\n",
              "    </tr>\n",
              "    <tr>\n",
              "      <th>0</th>\n",
              "      <td>Malaria cases reported</td>\n",
              "      <td>0.130397</td>\n",
              "    </tr>\n",
              "    <tr>\n",
              "      <th>11</th>\n",
              "      <td>Rural population growth (annual %)</td>\n",
              "      <td>0.114433</td>\n",
              "    </tr>\n",
              "    <tr>\n",
              "      <th>10</th>\n",
              "      <td>Rural population (% of total population)</td>\n",
              "      <td>0.054924</td>\n",
              "    </tr>\n",
              "    <tr>\n",
              "      <th>12</th>\n",
              "      <td>Urban population (% of total population)</td>\n",
              "      <td>0.043015</td>\n",
              "    </tr>\n",
              "    <tr>\n",
              "      <th>6</th>\n",
              "      <td>People using safely managed drinking water ser...</td>\n",
              "      <td>0.040836</td>\n",
              "    </tr>\n",
              "    <tr>\n",
              "      <th>7</th>\n",
              "      <td>People using safely managed sanitation service...</td>\n",
              "      <td>0.029254</td>\n",
              "    </tr>\n",
              "    <tr>\n",
              "      <th>8</th>\n",
              "      <td>People using safely managed sanitation service...</td>\n",
              "      <td>0.013275</td>\n",
              "    </tr>\n",
              "    <tr>\n",
              "      <th>2</th>\n",
              "      <td>Children with fever receiving antimalarial dru...</td>\n",
              "      <td>0.011112</td>\n",
              "    </tr>\n",
              "    <tr>\n",
              "      <th>9</th>\n",
              "      <td>People using safely managed sanitation service...</td>\n",
              "      <td>0.009668</td>\n",
              "    </tr>\n",
              "    <tr>\n",
              "      <th>5</th>\n",
              "      <td>People using safely managed drinking water ser...</td>\n",
              "      <td>0.009052</td>\n",
              "    </tr>\n",
              "    <tr>\n",
              "      <th>4</th>\n",
              "      <td>People using safely managed drinking water ser...</td>\n",
              "      <td>0.006923</td>\n",
              "    </tr>\n",
              "    <tr>\n",
              "      <th>1</th>\n",
              "      <td>Use of insecticide-treated bed nets (% of unde...</td>\n",
              "      <td>0.001045</td>\n",
              "    </tr>\n",
              "    <tr>\n",
              "      <th>3</th>\n",
              "      <td>Intermittent preventive treatment (IPT) of mal...</td>\n",
              "      <td>0.000709</td>\n",
              "    </tr>\n",
              "  </tbody>\n",
              "</table>\n",
              "</div>"
            ],
            "text/plain": [
              "                                              Feature  Importance\n",
              "15  People using at least basic sanitation service...    0.261495\n",
              "13                 Urban population growth (annual %)    0.137843\n",
              "14  People using at least basic drinking water ser...    0.136019\n",
              "0                              Malaria cases reported    0.130397\n",
              "11                 Rural population growth (annual %)    0.114433\n",
              "10           Rural population (% of total population)    0.054924\n",
              "12           Urban population (% of total population)    0.043015\n",
              "6   People using safely managed drinking water ser...    0.040836\n",
              "7   People using safely managed sanitation service...    0.029254\n",
              "8   People using safely managed sanitation service...    0.013275\n",
              "2   Children with fever receiving antimalarial dru...    0.011112\n",
              "9   People using safely managed sanitation service...    0.009668\n",
              "5   People using safely managed drinking water ser...    0.009052\n",
              "4   People using safely managed drinking water ser...    0.006923\n",
              "1   Use of insecticide-treated bed nets (% of unde...    0.001045\n",
              "3   Intermittent preventive treatment (IPT) of mal...    0.000709"
            ]
          },
          "metadata": {},
          "execution_count": 23
        }
      ]
    },
    {
      "cell_type": "markdown",
      "metadata": {
        "id": "iuaolqoimsAz"
      },
      "source": [
        "AdaBoost"
      ]
    },
    {
      "cell_type": "code",
      "metadata": {
        "colab": {
          "base_uri": "https://localhost:8080/"
        },
        "id": "jrGSxzD3m63b",
        "outputId": "53ce5a2d-7fb2-4c5c-edd1-6982e12849df"
      },
      "source": [
        "from sklearn.ensemble import AdaBoostRegressor\n",
        "\n",
        "adaboost = AdaBoostRegressor(random_state=42)\n",
        "\n",
        "adaboost_params = dict(learning_rate=np.arange(0.01,1.0,0.05), \n",
        "                 n_estimators=np.arange(10,2000,10),\n",
        "                 loss = ['linear', 'square', 'exponential'])\n",
        "\n",
        "adaboost_cv = RandomizedSearchCV(adaboost, adaboost_params, random_state=42, cv=5, scoring='neg_root_mean_squared_error')\n",
        "adaboost_optimized = adaboost_cv.fit(X_train, y_train)\n",
        "print('best params: ', adaboost_optimized.best_params_)"
      ],
      "execution_count": null,
      "outputs": [
        {
          "output_type": "stream",
          "name": "stdout",
          "text": [
            "best params:  {'n_estimators': 690, 'loss': 'exponential', 'learning_rate': 0.01}\n"
          ]
        }
      ]
    },
    {
      "cell_type": "code",
      "metadata": {
        "colab": {
          "base_uri": "https://localhost:8080/"
        },
        "id": "tp3afJD5nGfq",
        "outputId": "01d9e00c-2229-42a4-8acc-89a8512fd12a"
      },
      "source": [
        "best_adaboost = AdaBoostRegressor(n_estimators= 690, loss='exponential', learning_rate=0.01)\n",
        "best_adaboost.fit(X_train, y_train)"
      ],
      "execution_count": null,
      "outputs": [
        {
          "output_type": "execute_result",
          "data": {
            "text/plain": [
              "AdaBoostRegressor(learning_rate=0.01, loss='exponential', n_estimators=690)"
            ]
          },
          "metadata": {},
          "execution_count": 25
        }
      ]
    },
    {
      "cell_type": "code",
      "metadata": {
        "colab": {
          "base_uri": "https://localhost:8080/"
        },
        "id": "OPJuNtAtnK1w",
        "outputId": "1db432dd-ccda-4f4e-acd1-d78c2984f1b5"
      },
      "source": [
        "train_r2_adaboost = round(best_adaboost.score(X_train, y_train),2)\n",
        "print('Training R2 score of Adaboost Regressor is {}'.format(train_r2_adaboost))\n",
        "y_train_predicted_adaboost = best_adaboost.predict(X_train)\n",
        "rmse_train_adaboost = (np.sqrt(mean_squared_error(y_train, y_train_predicted_adaboost)))\n",
        "print('RMSE on the training set for the Adaboost Regressor is: {}'.format(rmse_train_adaboost))"
      ],
      "execution_count": null,
      "outputs": [
        {
          "output_type": "stream",
          "name": "stdout",
          "text": [
            "Training R2 score of Adaboost Regressor is 0.66\n",
            "RMSE on the training set for the Adaboost Regressor is: 92.31457998945251\n"
          ]
        }
      ]
    },
    {
      "cell_type": "code",
      "metadata": {
        "colab": {
          "base_uri": "https://localhost:8080/"
        },
        "id": "U0kkSP_ZnNxw",
        "outputId": "88f4f0df-37a8-4890-af77-c45dcf9a09dc"
      },
      "source": [
        "y_test_predicted_adaboost = best_adaboost.predict(X_test)\n",
        "rmse_test_adaboost= (np.sqrt(mean_squared_error(y_test, y_test_predicted_adaboost)))\n",
        "print(\"RMSE on testing set is for the Adaboost Regressor is: {}\".format(rmse_test_adaboost))"
      ],
      "execution_count": null,
      "outputs": [
        {
          "output_type": "stream",
          "name": "stdout",
          "text": [
            "RMSE on testing set is for the Adaboost Regressor is: 100.23617588655539\n"
          ]
        }
      ]
    },
    {
      "cell_type": "code",
      "metadata": {
        "colab": {
          "base_uri": "https://localhost:8080/",
          "height": 551
        },
        "id": "WWb8rI3w7eGW",
        "outputId": "5c78e1ee-5420-47c4-91a8-365689c8a478"
      },
      "source": [
        "adaboost_importance = pd.concat([pd.DataFrame(X.columns, columns={'Feature'}),pd.DataFrame(np.transpose(best_adaboost.feature_importances_), columns={'Importance'})], axis = 1) \n",
        "adaboost_importance.sort_values(by='Importance', ascending=False, inplace=True)\n",
        "adaboost_importance"
      ],
      "execution_count": null,
      "outputs": [
        {
          "output_type": "execute_result",
          "data": {
            "text/html": [
              "<div>\n",
              "<style scoped>\n",
              "    .dataframe tbody tr th:only-of-type {\n",
              "        vertical-align: middle;\n",
              "    }\n",
              "\n",
              "    .dataframe tbody tr th {\n",
              "        vertical-align: top;\n",
              "    }\n",
              "\n",
              "    .dataframe thead th {\n",
              "        text-align: right;\n",
              "    }\n",
              "</style>\n",
              "<table border=\"1\" class=\"dataframe\">\n",
              "  <thead>\n",
              "    <tr style=\"text-align: right;\">\n",
              "      <th></th>\n",
              "      <th>Feature</th>\n",
              "      <th>Importance</th>\n",
              "    </tr>\n",
              "  </thead>\n",
              "  <tbody>\n",
              "    <tr>\n",
              "      <th>15</th>\n",
              "      <td>People using at least basic sanitation service...</td>\n",
              "      <td>0.353653</td>\n",
              "    </tr>\n",
              "    <tr>\n",
              "      <th>14</th>\n",
              "      <td>People using at least basic drinking water ser...</td>\n",
              "      <td>0.175116</td>\n",
              "    </tr>\n",
              "    <tr>\n",
              "      <th>0</th>\n",
              "      <td>Malaria cases reported</td>\n",
              "      <td>0.133836</td>\n",
              "    </tr>\n",
              "    <tr>\n",
              "      <th>11</th>\n",
              "      <td>Rural population growth (annual %)</td>\n",
              "      <td>0.110452</td>\n",
              "    </tr>\n",
              "    <tr>\n",
              "      <th>13</th>\n",
              "      <td>Urban population growth (annual %)</td>\n",
              "      <td>0.098180</td>\n",
              "    </tr>\n",
              "    <tr>\n",
              "      <th>5</th>\n",
              "      <td>People using safely managed drinking water ser...</td>\n",
              "      <td>0.031015</td>\n",
              "    </tr>\n",
              "    <tr>\n",
              "      <th>6</th>\n",
              "      <td>People using safely managed drinking water ser...</td>\n",
              "      <td>0.026204</td>\n",
              "    </tr>\n",
              "    <tr>\n",
              "      <th>12</th>\n",
              "      <td>Urban population (% of total population)</td>\n",
              "      <td>0.019427</td>\n",
              "    </tr>\n",
              "    <tr>\n",
              "      <th>7</th>\n",
              "      <td>People using safely managed sanitation service...</td>\n",
              "      <td>0.014086</td>\n",
              "    </tr>\n",
              "    <tr>\n",
              "      <th>10</th>\n",
              "      <td>Rural population (% of total population)</td>\n",
              "      <td>0.011908</td>\n",
              "    </tr>\n",
              "    <tr>\n",
              "      <th>9</th>\n",
              "      <td>People using safely managed sanitation service...</td>\n",
              "      <td>0.009146</td>\n",
              "    </tr>\n",
              "    <tr>\n",
              "      <th>8</th>\n",
              "      <td>People using safely managed sanitation service...</td>\n",
              "      <td>0.008401</td>\n",
              "    </tr>\n",
              "    <tr>\n",
              "      <th>4</th>\n",
              "      <td>People using safely managed drinking water ser...</td>\n",
              "      <td>0.003539</td>\n",
              "    </tr>\n",
              "    <tr>\n",
              "      <th>2</th>\n",
              "      <td>Children with fever receiving antimalarial dru...</td>\n",
              "      <td>0.003067</td>\n",
              "    </tr>\n",
              "    <tr>\n",
              "      <th>1</th>\n",
              "      <td>Use of insecticide-treated bed nets (% of unde...</td>\n",
              "      <td>0.001798</td>\n",
              "    </tr>\n",
              "    <tr>\n",
              "      <th>3</th>\n",
              "      <td>Intermittent preventive treatment (IPT) of mal...</td>\n",
              "      <td>0.000172</td>\n",
              "    </tr>\n",
              "  </tbody>\n",
              "</table>\n",
              "</div>"
            ],
            "text/plain": [
              "                                              Feature  Importance\n",
              "15  People using at least basic sanitation service...    0.353653\n",
              "14  People using at least basic drinking water ser...    0.175116\n",
              "0                              Malaria cases reported    0.133836\n",
              "11                 Rural population growth (annual %)    0.110452\n",
              "13                 Urban population growth (annual %)    0.098180\n",
              "5   People using safely managed drinking water ser...    0.031015\n",
              "6   People using safely managed drinking water ser...    0.026204\n",
              "12           Urban population (% of total population)    0.019427\n",
              "7   People using safely managed sanitation service...    0.014086\n",
              "10           Rural population (% of total population)    0.011908\n",
              "9   People using safely managed sanitation service...    0.009146\n",
              "8   People using safely managed sanitation service...    0.008401\n",
              "4   People using safely managed drinking water ser...    0.003539\n",
              "2   Children with fever receiving antimalarial dru...    0.003067\n",
              "1   Use of insecticide-treated bed nets (% of unde...    0.001798\n",
              "3   Intermittent preventive treatment (IPT) of mal...    0.000172"
            ]
          },
          "metadata": {},
          "execution_count": 28
        }
      ]
    },
    {
      "cell_type": "markdown",
      "metadata": {
        "id": "-Ob6bvXQvTre"
      },
      "source": [
        "Stochastic Gradient Boosting Regression"
      ]
    },
    {
      "cell_type": "code",
      "metadata": {
        "colab": {
          "base_uri": "https://localhost:8080/"
        },
        "id": "FwxYMsVQvYUS",
        "outputId": "35b6055a-015f-497f-c336-c6cb64935f2b"
      },
      "source": [
        "from sklearn.ensemble import GradientBoostingRegressor\n",
        "\n",
        "gb_regressor = GradientBoostingRegressor(random_state=42)\n",
        " \n",
        "gb_params = dict(learning_rate=np.arange(0.05,0.3,0.05), \n",
        "                     n_estimators=np.arange(100,1000,100), \n",
        "                     subsample = np.arange(0.1,0.9,0.05),\n",
        "                     max_depth=[int(i) for i in np.arange(1,10,1)],\n",
        "                     max_features = ['sqrt', 'log2']) \n",
        "\n",
        "gb_cv = RandomizedSearchCV(gb_regressor, gb_params, random_state=42, cv=5, scoring='neg_root_mean_squared_error')\n",
        "gb_optimized = gb_cv.fit(X_train, y_train)\n",
        "print('best params: ', gb_optimized.best_params_)"
      ],
      "execution_count": null,
      "outputs": [
        {
          "output_type": "stream",
          "name": "stdout",
          "text": [
            "best params:  {'subsample': 0.6000000000000002, 'n_estimators': 700, 'max_features': 'sqrt', 'max_depth': 7, 'learning_rate': 0.1}\n"
          ]
        }
      ]
    },
    {
      "cell_type": "code",
      "metadata": {
        "colab": {
          "base_uri": "https://localhost:8080/"
        },
        "id": "D0iYclzQvl5b",
        "outputId": "bce7cf01-0200-49bd-f983-293b0059cecb"
      },
      "source": [
        "np.random.seed(42)\n",
        "\n",
        "best_gbr = GradientBoostingRegressor(subsample= 0.6000000000000002, n_estimators= 700, max_features= 'sqrt', max_depth= 7, learning_rate= 0.1)\n",
        "best_gbr.fit(X_train, y_train)"
      ],
      "execution_count": null,
      "outputs": [
        {
          "output_type": "execute_result",
          "data": {
            "text/plain": [
              "GradientBoostingRegressor(max_depth=7, max_features='sqrt', n_estimators=700,\n",
              "                          subsample=0.6000000000000002)"
            ]
          },
          "metadata": {},
          "execution_count": 106
        }
      ]
    },
    {
      "cell_type": "code",
      "metadata": {
        "colab": {
          "base_uri": "https://localhost:8080/"
        },
        "id": "ghK_PDAyvzmU",
        "outputId": "b0138680-1412-4b50-eb7c-8fec48636578"
      },
      "source": [
        "train_r2_gbr = round(best_gbr.score(X_train, y_train),2)\n",
        "print('Training R2 score of Gradient Boosting Regressor is {}'.format(train_r2_gbr))\n",
        "y_train_predicted_gbr = best_gbr.predict(X_train)\n",
        "rmse_train_gbr = (np.sqrt(mean_squared_error(y_train, y_train_predicted_gbr)))\n",
        "print('RMSE on the training set for the Gradient Boosting Regressor is: {}'.format(rmse_train_gbr))"
      ],
      "execution_count": null,
      "outputs": [
        {
          "output_type": "stream",
          "name": "stdout",
          "text": [
            "Training R2 score of Gradient Boosting Regressor is 1.0\n",
            "RMSE on the training set for the Gradient Boosting Regressor is: 0.009568623311125648\n"
          ]
        }
      ]
    },
    {
      "cell_type": "code",
      "metadata": {
        "colab": {
          "base_uri": "https://localhost:8080/"
        },
        "id": "lAJ3f9Afv291",
        "outputId": "f0c8f159-066b-4409-c60a-10e6adef0086"
      },
      "source": [
        "y_test_predicted_gbr = best_gbr.predict(X_test)\n",
        "rmse_test_gbr= (np.sqrt(mean_squared_error(y_test, y_test_predicted_gbr)))\n",
        "print(\"RMSE on testing set is for the Gradient Boosting Regressor is: {}\".format(rmse_test_gbr))"
      ],
      "execution_count": null,
      "outputs": [
        {
          "output_type": "stream",
          "name": "stdout",
          "text": [
            "RMSE on testing set is for the Gradient Boosting Regressor is: 43.71372772505925\n"
          ]
        }
      ]
    },
    {
      "cell_type": "code",
      "metadata": {
        "colab": {
          "base_uri": "https://localhost:8080/",
          "height": 551
        },
        "id": "lf1IRVejv5SB",
        "outputId": "b53dfbb7-05a3-4f34-8543-ed8520bfb309"
      },
      "source": [
        "gbr_importance = pd.concat([pd.DataFrame(X.columns, columns={'Feature'}),pd.DataFrame(np.transpose(best_gbr.feature_importances_), columns={'Importance'})], axis = 1) \n",
        "gbr_importance.sort_values(by='Importance', ascending=False, inplace=True)\n",
        "gbr_importance"
      ],
      "execution_count": null,
      "outputs": [
        {
          "output_type": "execute_result",
          "data": {
            "text/html": [
              "<div>\n",
              "<style scoped>\n",
              "    .dataframe tbody tr th:only-of-type {\n",
              "        vertical-align: middle;\n",
              "    }\n",
              "\n",
              "    .dataframe tbody tr th {\n",
              "        vertical-align: top;\n",
              "    }\n",
              "\n",
              "    .dataframe thead th {\n",
              "        text-align: right;\n",
              "    }\n",
              "</style>\n",
              "<table border=\"1\" class=\"dataframe\">\n",
              "  <thead>\n",
              "    <tr style=\"text-align: right;\">\n",
              "      <th></th>\n",
              "      <th>Feature</th>\n",
              "      <th>Importance</th>\n",
              "    </tr>\n",
              "  </thead>\n",
              "  <tbody>\n",
              "    <tr>\n",
              "      <th>15</th>\n",
              "      <td>People using at least basic sanitation service...</td>\n",
              "      <td>0.259568</td>\n",
              "    </tr>\n",
              "    <tr>\n",
              "      <th>14</th>\n",
              "      <td>People using at least basic drinking water ser...</td>\n",
              "      <td>0.123262</td>\n",
              "    </tr>\n",
              "    <tr>\n",
              "      <th>11</th>\n",
              "      <td>Rural population growth (annual %)</td>\n",
              "      <td>0.119073</td>\n",
              "    </tr>\n",
              "    <tr>\n",
              "      <th>13</th>\n",
              "      <td>Urban population growth (annual %)</td>\n",
              "      <td>0.105337</td>\n",
              "    </tr>\n",
              "    <tr>\n",
              "      <th>0</th>\n",
              "      <td>Malaria cases reported</td>\n",
              "      <td>0.094870</td>\n",
              "    </tr>\n",
              "    <tr>\n",
              "      <th>12</th>\n",
              "      <td>Urban population (% of total population)</td>\n",
              "      <td>0.067534</td>\n",
              "    </tr>\n",
              "    <tr>\n",
              "      <th>10</th>\n",
              "      <td>Rural population (% of total population)</td>\n",
              "      <td>0.067165</td>\n",
              "    </tr>\n",
              "    <tr>\n",
              "      <th>6</th>\n",
              "      <td>People using safely managed drinking water ser...</td>\n",
              "      <td>0.032448</td>\n",
              "    </tr>\n",
              "    <tr>\n",
              "      <th>7</th>\n",
              "      <td>People using safely managed sanitation service...</td>\n",
              "      <td>0.027506</td>\n",
              "    </tr>\n",
              "    <tr>\n",
              "      <th>8</th>\n",
              "      <td>People using safely managed sanitation service...</td>\n",
              "      <td>0.022409</td>\n",
              "    </tr>\n",
              "    <tr>\n",
              "      <th>4</th>\n",
              "      <td>People using safely managed drinking water ser...</td>\n",
              "      <td>0.021560</td>\n",
              "    </tr>\n",
              "    <tr>\n",
              "      <th>2</th>\n",
              "      <td>Children with fever receiving antimalarial dru...</td>\n",
              "      <td>0.020723</td>\n",
              "    </tr>\n",
              "    <tr>\n",
              "      <th>9</th>\n",
              "      <td>People using safely managed sanitation service...</td>\n",
              "      <td>0.012122</td>\n",
              "    </tr>\n",
              "    <tr>\n",
              "      <th>5</th>\n",
              "      <td>People using safely managed drinking water ser...</td>\n",
              "      <td>0.011617</td>\n",
              "    </tr>\n",
              "    <tr>\n",
              "      <th>3</th>\n",
              "      <td>Intermittent preventive treatment (IPT) of mal...</td>\n",
              "      <td>0.009103</td>\n",
              "    </tr>\n",
              "    <tr>\n",
              "      <th>1</th>\n",
              "      <td>Use of insecticide-treated bed nets (% of unde...</td>\n",
              "      <td>0.005704</td>\n",
              "    </tr>\n",
              "  </tbody>\n",
              "</table>\n",
              "</div>"
            ],
            "text/plain": [
              "                                              Feature  Importance\n",
              "15  People using at least basic sanitation service...    0.259568\n",
              "14  People using at least basic drinking water ser...    0.123262\n",
              "11                 Rural population growth (annual %)    0.119073\n",
              "13                 Urban population growth (annual %)    0.105337\n",
              "0                              Malaria cases reported    0.094870\n",
              "12           Urban population (% of total population)    0.067534\n",
              "10           Rural population (% of total population)    0.067165\n",
              "6   People using safely managed drinking water ser...    0.032448\n",
              "7   People using safely managed sanitation service...    0.027506\n",
              "8   People using safely managed sanitation service...    0.022409\n",
              "4   People using safely managed drinking water ser...    0.021560\n",
              "2   Children with fever receiving antimalarial dru...    0.020723\n",
              "9   People using safely managed sanitation service...    0.012122\n",
              "5   People using safely managed drinking water ser...    0.011617\n",
              "3   Intermittent preventive treatment (IPT) of mal...    0.009103\n",
              "1   Use of insecticide-treated bed nets (% of unde...    0.005704"
            ]
          },
          "metadata": {},
          "execution_count": 114
        }
      ]
    },
    {
      "cell_type": "markdown",
      "metadata": {
        "id": "7y5r6trU8Xp-"
      },
      "source": [
        "Comapring Models"
      ]
    },
    {
      "cell_type": "code",
      "metadata": {
        "colab": {
          "base_uri": "https://localhost:8080/",
          "height": 143
        },
        "id": "1KEhjqD88ZiQ",
        "outputId": "347c4e32-3817-4290-cddb-5913aeb5e51f"
      },
      "source": [
        "models = ['Random Forest', 'Adaboost', 'Gradient Boosting']\n",
        "\n",
        "training_r2s = [train_r2_rf, train_r2_adaboost, train_r2_gbr]\n",
        "rmse_trains = [rmse_train_rf, rmse_train_adaboost, rmse_train_gbr]\n",
        "rmse_tests= [rmse_test_rf, rmse_test_adaboost, rmse_test_gbr]\n",
        "#Putting them all in a dictionary to create a table\n",
        "data = {\"model\": pd.Series(models), \n",
        "        \"Training R2\": pd.Series(training_r2s), \n",
        "        \"Training RMSE\": pd.Series(rmse_trains),\n",
        "        \"Testing RMSE\": pd.Series(rmse_tests)}\n",
        "\n",
        "comparison_df = pd.concat(data, axis = 1) \n",
        "comparison_df"
      ],
      "execution_count": null,
      "outputs": [
        {
          "output_type": "execute_result",
          "data": {
            "text/html": [
              "<div>\n",
              "<style scoped>\n",
              "    .dataframe tbody tr th:only-of-type {\n",
              "        vertical-align: middle;\n",
              "    }\n",
              "\n",
              "    .dataframe tbody tr th {\n",
              "        vertical-align: top;\n",
              "    }\n",
              "\n",
              "    .dataframe thead th {\n",
              "        text-align: right;\n",
              "    }\n",
              "</style>\n",
              "<table border=\"1\" class=\"dataframe\">\n",
              "  <thead>\n",
              "    <tr style=\"text-align: right;\">\n",
              "      <th></th>\n",
              "      <th>model</th>\n",
              "      <th>Training R2</th>\n",
              "      <th>Training RMSE</th>\n",
              "      <th>Testing RMSE</th>\n",
              "    </tr>\n",
              "  </thead>\n",
              "  <tbody>\n",
              "    <tr>\n",
              "      <th>0</th>\n",
              "      <td>Random Forest</td>\n",
              "      <td>0.68</td>\n",
              "      <td>90.251051</td>\n",
              "      <td>100.082710</td>\n",
              "    </tr>\n",
              "    <tr>\n",
              "      <th>1</th>\n",
              "      <td>Adaboost</td>\n",
              "      <td>0.66</td>\n",
              "      <td>92.314580</td>\n",
              "      <td>100.236176</td>\n",
              "    </tr>\n",
              "    <tr>\n",
              "      <th>2</th>\n",
              "      <td>Gradient Boosting</td>\n",
              "      <td>1.00</td>\n",
              "      <td>0.009569</td>\n",
              "      <td>43.713728</td>\n",
              "    </tr>\n",
              "  </tbody>\n",
              "</table>\n",
              "</div>"
            ],
            "text/plain": [
              "               model  Training R2  Training RMSE  Testing RMSE\n",
              "0      Random Forest         0.68      90.251051    100.082710\n",
              "1           Adaboost         0.66      92.314580    100.236176\n",
              "2  Gradient Boosting         1.00       0.009569     43.713728"
            ]
          },
          "metadata": {},
          "execution_count": 110
        }
      ]
    },
    {
      "cell_type": "code",
      "metadata": {
        "colab": {
          "base_uri": "https://localhost:8080/",
          "height": 585
        },
        "id": "jqvZN6CY82yE",
        "outputId": "b5faf3c3-1644-48cc-e2d0-4b0699d4b004"
      },
      "source": [
        "x = np.arange(len(models))  # the label locations\n",
        "width = 0.35  # the width of the bars\n",
        "\n",
        "fig, ax = plt.subplots(figsize=(8,8))\n",
        "rects1 = ax.bar(x - width/2, round(comparison_df.iloc[:,2],2), width, label='Training RMSE')\n",
        "rects2 = ax.bar(x + width/2, round(comparison_df.iloc[:,3],2), width, label='Testing RMSE')\n",
        "\n",
        "# Add some text for labels, title and custom x-axis tick labels, etc.\n",
        "ax.set_ylabel('Performance Metric value',size=13)\n",
        "ax.set_xlabel('Model',size=13)\n",
        "ax.set_title(\"Root Mean Square Error\",size=15, weight='bold')\n",
        "ax.set_xticks(x)\n",
        "ax.set_xticklabels(models)\n",
        "ax.set_ylim([0,110])\n",
        "ax.legend()\n",
        "\n",
        "def autolabel(rects):\n",
        "    \"\"\"Attach a text label above each bar in *rects*, displaying its height.\"\"\"\n",
        "    for rect in rects:\n",
        "        height = rect.get_height()\n",
        "        ax.annotate('{}'.format(height),\n",
        "                    xy=(rect.get_x() + rect.get_width() / 2, height),\n",
        "                    xytext=(0, 3),  # 3 points vertical offset\n",
        "                    textcoords=\"offset points\",\n",
        "                    ha='center', va='bottom')\n",
        "\n",
        "autolabel(rects1)\n",
        "autolabel(rects2)\n",
        "\n",
        "fig.tight_layout()"
      ],
      "execution_count": null,
      "outputs": [
        {
          "output_type": "display_data",
          "data": {
            "image/png": "[encoded data removed]",
            "text/plain": [
              "<Figure size 576x576 with 1 Axes>"
            ]
          },
          "metadata": {
            "needs_background": "light"
          }
        }
      ]
    }
  ]
}